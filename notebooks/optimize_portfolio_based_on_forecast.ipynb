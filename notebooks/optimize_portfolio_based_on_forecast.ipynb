{
  "nbformat": 4,
  "nbformat_minor": 0,
  "metadata": {
    "colab": {
      "provenance": []
    },
    "kernelspec": {
      "name": "python3",
      "display_name": "Python 3"
    },
    "language_info": {
      "name": "python"
    }
  },
  "cells": [
    {
      "cell_type": "code",
      "execution_count": 3,
      "metadata": {
        "id": "uX73XrAFOCjR"
      },
      "outputs": [],
      "source": [
        "import numpy as np\n",
        "import pandas as pd\n",
        "import yfinance as yf\n",
        "import matplotlib.pyplot as plt\n",
        "from statsmodels.tsa.arima.model import ARIMA\n",
        "from keras.models import Sequential\n",
        "from keras.layers import LSTM, Dense\n",
        "from scipy.optimize import minimize"
      ]
    },
    {
      "cell_type": "code",
      "source": [
        "tsla_forecast = pd.read_csv('/content/lstm_forecast_results.csv', index_col='Date', parse_dates=True)\n",
        "bnd_data = pd.read_csv('/content/BND_historical_data.csv', index_col='Date', parse_dates=True)\n",
        "spy_data = pd.read_csv('/content/SPY_historical_data.csv', index_col='Date', parse_dates=True)\n"
      ],
      "metadata": {
        "id": "494EwDntOdkV"
      },
      "execution_count": 6,
      "outputs": []
    },
    {
      "cell_type": "code",
      "source": [
        "# Forecast BND using ARIMA\n",
        "def forecast_arima(series, steps=30):\n",
        "    model = ARIMA(series, order=(5,1,0))\n",
        "    model_fit = model.fit()\n",
        "    forecast = model_fit.forecast(steps=steps)\n",
        "    return forecast\n",
        "\n",
        "bnd_forecast = forecast_arima(bnd_data['Close'])"
      ],
      "metadata": {
        "colab": {
          "base_uri": "https://localhost:8080/"
        },
        "id": "u-vHIrmbOumI",
        "outputId": "ec688823-35a1-4e1c-993e-00de01ded48b"
      },
      "execution_count": 7,
      "outputs": [
        {
          "output_type": "stream",
          "name": "stderr",
          "text": [
            "/usr/local/lib/python3.11/dist-packages/statsmodels/tsa/base/tsa_model.py:473: ValueWarning: A date index has been provided, but it has no associated frequency information and so will be ignored when e.g. forecasting.\n",
            "  self._init_dates(dates, freq)\n",
            "/usr/local/lib/python3.11/dist-packages/statsmodels/tsa/base/tsa_model.py:473: ValueWarning: A date index has been provided, but it has no associated frequency information and so will be ignored when e.g. forecasting.\n",
            "  self._init_dates(dates, freq)\n",
            "/usr/local/lib/python3.11/dist-packages/statsmodels/tsa/base/tsa_model.py:473: ValueWarning: A date index has been provided, but it has no associated frequency information and so will be ignored when e.g. forecasting.\n",
            "  self._init_dates(dates, freq)\n",
            "/usr/local/lib/python3.11/dist-packages/statsmodels/tsa/base/tsa_model.py:837: ValueWarning: No supported index is available. Prediction results will be given with an integer index beginning at `start`.\n",
            "  return get_prediction_index(\n",
            "/usr/local/lib/python3.11/dist-packages/statsmodels/tsa/base/tsa_model.py:837: FutureWarning: No supported index is available. In the next version, calling this method in a model without a supported index will result in an exception.\n",
            "  return get_prediction_index(\n"
          ]
        }
      ]
    },
    {
      "cell_type": "code",
      "source": [
        "# Forecast SPY using LSTM\n",
        "def prepare_lstm_data(data, look_back=10):\n",
        "    X, y = [], []\n",
        "    for i in range(len(data)-look_back):\n",
        "        X.append(data[i:i+look_back])\n",
        "        y.append(data[i+look_back])\n",
        "    return np.array(X), np.array(y)\n",
        "\n",
        "look_back = 30\n",
        "spy_series = spy_data['Close'].values.reshape(-1,1)\n",
        "X_train, y_train = prepare_lstm_data(spy_series, look_back)\n",
        "\n",
        "model = Sequential([\n",
        "    LSTM(50, return_sequences=True, input_shape=(look_back, 1)),\n",
        "    LSTM(50, return_sequences=False),\n",
        "    Dense(25),\n",
        "    Dense(1)\n",
        "])\n",
        "model.compile(optimizer='adam', loss='mean_squared_error')\n",
        "model.fit(X_train, y_train, epochs=20, batch_size=1, verbose=1)\n",
        "\n",
        "spy_forecast = []\n",
        "input_seq = spy_series[-look_back:]\n",
        "for _ in range(30):\n",
        "    input_seq_reshaped = input_seq.reshape(1, look_back, 1)\n",
        "    pred = model.predict(input_seq_reshaped)[0]\n",
        "    spy_forecast.append(pred)\n",
        "    input_seq = np.append(input_seq[1:], pred).reshape(-1, 1)"
      ],
      "metadata": {
        "colab": {
          "base_uri": "https://localhost:8080/"
        },
        "id": "LbOQABE8PryN",
        "outputId": "95449798-46bb-4a51-df51-3abd4c680e12"
      },
      "execution_count": 10,
      "outputs": [
        {
          "output_type": "stream",
          "name": "stdout",
          "text": [
            "Epoch 1/20\n"
          ]
        },
        {
          "output_type": "stream",
          "name": "stderr",
          "text": [
            "/usr/local/lib/python3.11/dist-packages/keras/src/layers/rnn/rnn.py:200: UserWarning: Do not pass an `input_shape`/`input_dim` argument to a layer. When using Sequential models, prefer using an `Input(shape)` object as the first layer in the model instead.\n",
            "  super().__init__(**kwargs)\n"
          ]
        },
        {
          "output_type": "stream",
          "name": "stdout",
          "text": [
            "\u001b[1m2505/2505\u001b[0m \u001b[32m━━━━━━━━━━━━━━━━━━━━\u001b[0m\u001b[37m\u001b[0m \u001b[1m40s\u001b[0m 15ms/step - loss: 36145.6953\n",
            "Epoch 2/20\n",
            "\u001b[1m2505/2505\u001b[0m \u001b[32m━━━━━━━━━━━━━━━━━━━━\u001b[0m\u001b[37m\u001b[0m \u001b[1m36s\u001b[0m 15ms/step - loss: 425.4061\n",
            "Epoch 3/20\n",
            "\u001b[1m2505/2505\u001b[0m \u001b[32m━━━━━━━━━━━━━━━━━━━━\u001b[0m\u001b[37m\u001b[0m \u001b[1m36s\u001b[0m 15ms/step - loss: 251.9333\n",
            "Epoch 4/20\n",
            "\u001b[1m2505/2505\u001b[0m \u001b[32m━━━━━━━━━━━━━━━━━━━━\u001b[0m\u001b[37m\u001b[0m \u001b[1m41s\u001b[0m 15ms/step - loss: 223.1999\n",
            "Epoch 5/20\n",
            "\u001b[1m2505/2505\u001b[0m \u001b[32m━━━━━━━━━━━━━━━━━━━━\u001b[0m\u001b[37m\u001b[0m \u001b[1m41s\u001b[0m 15ms/step - loss: 660.1365\n",
            "Epoch 6/20\n",
            "\u001b[1m2505/2505\u001b[0m \u001b[32m━━━━━━━━━━━━━━━━━━━━\u001b[0m\u001b[37m\u001b[0m \u001b[1m37s\u001b[0m 15ms/step - loss: 207.8917\n",
            "Epoch 7/20\n",
            "\u001b[1m2505/2505\u001b[0m \u001b[32m━━━━━━━━━━━━━━━━━━━━\u001b[0m\u001b[37m\u001b[0m \u001b[1m37s\u001b[0m 15ms/step - loss: 222.5039\n",
            "Epoch 8/20\n",
            "\u001b[1m2505/2505\u001b[0m \u001b[32m━━━━━━━━━━━━━━━━━━━━\u001b[0m\u001b[37m\u001b[0m \u001b[1m43s\u001b[0m 15ms/step - loss: 204.2465\n",
            "Epoch 9/20\n",
            "\u001b[1m2505/2505\u001b[0m \u001b[32m━━━━━━━━━━━━━━━━━━━━\u001b[0m\u001b[37m\u001b[0m \u001b[1m41s\u001b[0m 15ms/step - loss: 132.6445\n",
            "Epoch 10/20\n",
            "\u001b[1m2505/2505\u001b[0m \u001b[32m━━━━━━━━━━━━━━━━━━━━\u001b[0m\u001b[37m\u001b[0m \u001b[1m38s\u001b[0m 15ms/step - loss: 163.5696\n",
            "Epoch 11/20\n",
            "\u001b[1m2505/2505\u001b[0m \u001b[32m━━━━━━━━━━━━━━━━━━━━\u001b[0m\u001b[37m\u001b[0m \u001b[1m41s\u001b[0m 15ms/step - loss: 141.9371\n",
            "Epoch 12/20\n",
            "\u001b[1m2505/2505\u001b[0m \u001b[32m━━━━━━━━━━━━━━━━━━━━\u001b[0m\u001b[37m\u001b[0m \u001b[1m41s\u001b[0m 15ms/step - loss: 151.5795\n",
            "Epoch 13/20\n",
            "\u001b[1m2505/2505\u001b[0m \u001b[32m━━━━━━━━━━━━━━━━━━━━\u001b[0m\u001b[37m\u001b[0m \u001b[1m41s\u001b[0m 15ms/step - loss: 107.0616\n",
            "Epoch 14/20\n",
            "\u001b[1m2505/2505\u001b[0m \u001b[32m━━━━━━━━━━━━━━━━━━━━\u001b[0m\u001b[37m\u001b[0m \u001b[1m41s\u001b[0m 15ms/step - loss: 95.4614\n",
            "Epoch 15/20\n",
            "\u001b[1m2505/2505\u001b[0m \u001b[32m━━━━━━━━━━━━━━━━━━━━\u001b[0m\u001b[37m\u001b[0m \u001b[1m38s\u001b[0m 15ms/step - loss: 133.7734\n",
            "Epoch 16/20\n",
            "\u001b[1m2505/2505\u001b[0m \u001b[32m━━━━━━━━━━━━━━━━━━━━\u001b[0m\u001b[37m\u001b[0m \u001b[1m40s\u001b[0m 15ms/step - loss: 88.6290\n",
            "Epoch 17/20\n",
            "\u001b[1m2505/2505\u001b[0m \u001b[32m━━━━━━━━━━━━━━━━━━━━\u001b[0m\u001b[37m\u001b[0m \u001b[1m38s\u001b[0m 15ms/step - loss: 125.4197\n",
            "Epoch 18/20\n",
            "\u001b[1m2505/2505\u001b[0m \u001b[32m━━━━━━━━━━━━━━━━━━━━\u001b[0m\u001b[37m\u001b[0m \u001b[1m41s\u001b[0m 15ms/step - loss: 101.0554\n",
            "Epoch 19/20\n",
            "\u001b[1m2505/2505\u001b[0m \u001b[32m━━━━━━━━━━━━━━━━━━━━\u001b[0m\u001b[37m\u001b[0m \u001b[1m38s\u001b[0m 15ms/step - loss: 92.9838\n",
            "Epoch 20/20\n",
            "\u001b[1m2505/2505\u001b[0m \u001b[32m━━━━━━━━━━━━━━━━━━━━\u001b[0m\u001b[37m\u001b[0m \u001b[1m41s\u001b[0m 15ms/step - loss: 107.7830\n",
            "\u001b[1m1/1\u001b[0m \u001b[32m━━━━━━━━━━━━━━━━━━━━\u001b[0m\u001b[37m\u001b[0m \u001b[1m0s\u001b[0m 363ms/step\n",
            "\u001b[1m1/1\u001b[0m \u001b[32m━━━━━━━━━━━━━━━━━━━━\u001b[0m\u001b[37m\u001b[0m \u001b[1m0s\u001b[0m 49ms/step\n",
            "\u001b[1m1/1\u001b[0m \u001b[32m━━━━━━━━━━━━━━━━━━━━\u001b[0m\u001b[37m\u001b[0m \u001b[1m0s\u001b[0m 46ms/step\n",
            "\u001b[1m1/1\u001b[0m \u001b[32m━━━━━━━━━━━━━━━━━━━━\u001b[0m\u001b[37m\u001b[0m \u001b[1m0s\u001b[0m 46ms/step\n",
            "\u001b[1m1/1\u001b[0m \u001b[32m━━━━━━━━━━━━━━━━━━━━\u001b[0m\u001b[37m\u001b[0m \u001b[1m0s\u001b[0m 44ms/step\n",
            "\u001b[1m1/1\u001b[0m \u001b[32m━━━━━━━━━━━━━━━━━━━━\u001b[0m\u001b[37m\u001b[0m \u001b[1m0s\u001b[0m 43ms/step\n",
            "\u001b[1m1/1\u001b[0m \u001b[32m━━━━━━━━━━━━━━━━━━━━\u001b[0m\u001b[37m\u001b[0m \u001b[1m0s\u001b[0m 49ms/step\n",
            "\u001b[1m1/1\u001b[0m \u001b[32m━━━━━━━━━━━━━━━━━━━━\u001b[0m\u001b[37m\u001b[0m \u001b[1m0s\u001b[0m 42ms/step\n",
            "\u001b[1m1/1\u001b[0m \u001b[32m━━━━━━━━━━━━━━━━━━━━\u001b[0m\u001b[37m\u001b[0m \u001b[1m0s\u001b[0m 46ms/step\n",
            "\u001b[1m1/1\u001b[0m \u001b[32m━━━━━━━━━━━━━━━━━━━━\u001b[0m\u001b[37m\u001b[0m \u001b[1m0s\u001b[0m 44ms/step\n",
            "\u001b[1m1/1\u001b[0m \u001b[32m━━━━━━━━━━━━━━━━━━━━\u001b[0m\u001b[37m\u001b[0m \u001b[1m0s\u001b[0m 43ms/step\n",
            "\u001b[1m1/1\u001b[0m \u001b[32m━━━━━━━━━━━━━━━━━━━━\u001b[0m\u001b[37m\u001b[0m \u001b[1m0s\u001b[0m 64ms/step\n",
            "\u001b[1m1/1\u001b[0m \u001b[32m━━━━━━━━━━━━━━━━━━━━\u001b[0m\u001b[37m\u001b[0m \u001b[1m0s\u001b[0m 43ms/step\n",
            "\u001b[1m1/1\u001b[0m \u001b[32m━━━━━━━━━━━━━━━━━━━━\u001b[0m\u001b[37m\u001b[0m \u001b[1m0s\u001b[0m 45ms/step\n",
            "\u001b[1m1/1\u001b[0m \u001b[32m━━━━━━━━━━━━━━━━━━━━\u001b[0m\u001b[37m\u001b[0m \u001b[1m0s\u001b[0m 43ms/step\n",
            "\u001b[1m1/1\u001b[0m \u001b[32m━━━━━━━━━━━━━━━━━━━━\u001b[0m\u001b[37m\u001b[0m \u001b[1m0s\u001b[0m 40ms/step\n",
            "\u001b[1m1/1\u001b[0m \u001b[32m━━━━━━━━━━━━━━━━━━━━\u001b[0m\u001b[37m\u001b[0m \u001b[1m0s\u001b[0m 42ms/step\n",
            "\u001b[1m1/1\u001b[0m \u001b[32m━━━━━━━━━━━━━━━━━━━━\u001b[0m\u001b[37m\u001b[0m \u001b[1m0s\u001b[0m 41ms/step\n",
            "\u001b[1m1/1\u001b[0m \u001b[32m━━━━━━━━━━━━━━━━━━━━\u001b[0m\u001b[37m\u001b[0m \u001b[1m0s\u001b[0m 41ms/step\n",
            "\u001b[1m1/1\u001b[0m \u001b[32m━━━━━━━━━━━━━━━━━━━━\u001b[0m\u001b[37m\u001b[0m \u001b[1m0s\u001b[0m 41ms/step\n",
            "\u001b[1m1/1\u001b[0m \u001b[32m━━━━━━━━━━━━━━━━━━━━\u001b[0m\u001b[37m\u001b[0m \u001b[1m0s\u001b[0m 77ms/step\n",
            "\u001b[1m1/1\u001b[0m \u001b[32m━━━━━━━━━━━━━━━━━━━━\u001b[0m\u001b[37m\u001b[0m \u001b[1m0s\u001b[0m 76ms/step\n",
            "\u001b[1m1/1\u001b[0m \u001b[32m━━━━━━━━━━━━━━━━━━━━\u001b[0m\u001b[37m\u001b[0m \u001b[1m0s\u001b[0m 69ms/step\n",
            "\u001b[1m1/1\u001b[0m \u001b[32m━━━━━━━━━━━━━━━━━━━━\u001b[0m\u001b[37m\u001b[0m \u001b[1m0s\u001b[0m 64ms/step\n",
            "\u001b[1m1/1\u001b[0m \u001b[32m━━━━━━━━━━━━━━━━━━━━\u001b[0m\u001b[37m\u001b[0m \u001b[1m0s\u001b[0m 64ms/step\n",
            "\u001b[1m1/1\u001b[0m \u001b[32m━━━━━━━━━━━━━━━━━━━━\u001b[0m\u001b[37m\u001b[0m \u001b[1m0s\u001b[0m 68ms/step\n",
            "\u001b[1m1/1\u001b[0m \u001b[32m━━━━━━━━━━━━━━━━━━━━\u001b[0m\u001b[37m\u001b[0m \u001b[1m0s\u001b[0m 64ms/step\n",
            "\u001b[1m1/1\u001b[0m \u001b[32m━━━━━━━━━━━━━━━━━━━━\u001b[0m\u001b[37m\u001b[0m \u001b[1m0s\u001b[0m 77ms/step\n",
            "\u001b[1m1/1\u001b[0m \u001b[32m━━━━━━━━━━━━━━━━━━━━\u001b[0m\u001b[37m\u001b[0m \u001b[1m0s\u001b[0m 68ms/step\n",
            "\u001b[1m1/1\u001b[0m \u001b[32m━━━━━━━━━━━━━━━━━━━━\u001b[0m\u001b[37m\u001b[0m \u001b[1m0s\u001b[0m 73ms/step\n"
          ]
        }
      ]
    },
    {
      "cell_type": "code",
      "source": [
        "spy_forecast = np.array(spy_forecast).flatten()  # Ensure it's a 1D numeric array"
      ],
      "metadata": {
        "id": "2besfra9YwHn"
      },
      "execution_count": 16,
      "outputs": []
    },
    {
      "cell_type": "code",
      "source": [
        "# Combine Forecasts\n",
        "forecast_dates = pd.date_range(start=tsla_forecast.index[-1], periods=30, freq='D')\n",
        "forecast_df = pd.DataFrame({\n",
        "    'Date': forecast_dates,\n",
        "    'TSLA': tsla_forecast['Forecast'].values[-30:],\n",
        "    'BND': bnd_forecast.values,\n",
        "    'SPY': spy_forecast\n",
        "}).set_index('Date')"
      ],
      "metadata": {
        "id": "g_x0ZK6xV4w8"
      },
      "execution_count": 17,
      "outputs": []
    },
    {
      "cell_type": "code",
      "source": [
        "# Compute Daily Returns\n",
        "returns = forecast_df.pct_change().dropna()\n"
      ],
      "metadata": {
        "id": "jv9M3jLTUio5"
      },
      "execution_count": 18,
      "outputs": []
    },
    {
      "cell_type": "code",
      "source": [
        "# Portfolio Optimization\n",
        "def portfolio_stats(weights, returns):\n",
        "    portfolio_return = np.sum(weights * returns.mean()) * 252\n",
        "    portfolio_volatility = np.sqrt(np.dot(weights.T, np.dot(returns.cov() * 252, weights)))\n",
        "    sharpe_ratio = portfolio_return / portfolio_volatility\n",
        "    return portfolio_return, portfolio_volatility, sharpe_ratio\n",
        "\n",
        "def neg_sharpe(weights, returns):\n",
        "    return -portfolio_stats(weights, returns)[2]"
      ],
      "metadata": {
        "id": "H62dzaQMWC-W"
      },
      "execution_count": 19,
      "outputs": []
    },
    {
      "cell_type": "code",
      "source": [
        "constraints = ({'type': 'eq', 'fun': lambda w: np.sum(w) - 1})\n",
        "bounds = [(0, 1)] * 3\n",
        "initial_weights = [1/3, 1/3, 1/3]\n",
        "opt_result = minimize(neg_sharpe, initial_weights, args=(returns,), method='SLSQP', bounds=bounds, constraints=constraints)\n",
        "\n",
        "optimized_weights = opt_result.x\n"
      ],
      "metadata": {
        "id": "69UArXnJWExz"
      },
      "execution_count": 20,
      "outputs": []
    },
    {
      "cell_type": "code",
      "source": [
        "# Risk Analysis\n",
        "portfolio_return, portfolio_volatility, sharpe_ratio = portfolio_stats(optimized_weights, returns)\n",
        "VaR_95 = np.percentile(returns['TSLA'], 5)"
      ],
      "metadata": {
        "id": "a7vTnuTKWGKj"
      },
      "execution_count": 21,
      "outputs": []
    },
    {
      "cell_type": "code",
      "source": [
        "# Visualization\n",
        "plt.figure(figsize=(10,5))\n",
        "plt.plot((1 + returns).cumprod(), label=['TSLA', 'BND', 'SPY'])\n",
        "plt.legend()\n",
        "plt.title('Cumulative Returns')\n",
        "plt.show()"
      ],
      "metadata": {
        "colab": {
          "base_uri": "https://localhost:8080/",
          "height": 468
        },
        "id": "NwLnpXMCWHh0",
        "outputId": "ed126bba-4918-4e4a-ee5a-aa09ae6ed475"
      },
      "execution_count": 22,
      "outputs": [
        {
          "output_type": "display_data",
          "data": {
            "text/plain": [
              "<Figure size 1000x500 with 1 Axes>"
            ],
            "image/png": "[encoded data removed]"
          },
          "metadata": {}
        }
      ]
    },
    {
      "cell_type": "code",
      "source": [
        "# Summary\n",
        "print(f'Optimized Portfolio Weights: TSLA: {optimized_weights[0]:.2f}, BND: {optimized_weights[1]:.2f}, SPY: {optimized_weights[2]:.2f}')\n",
        "print(f'Expected Annual Return: {portfolio_return:.2f}')\n",
        "print(f'Portfolio Volatility: {portfolio_volatility:.2f}')\n",
        "print(f'Sharpe Ratio: {sharpe_ratio:.2f}')\n",
        "print(f'TSLA Value at Risk (95% confidence): {VaR_95:.4f}')"
      ],
      "metadata": {
        "colab": {
          "base_uri": "https://localhost:8080/"
        },
        "id": "zEeCbCXbWJNd",
        "outputId": "ebddb1b5-e792-48b2-ae6b-9246a9bbe20e"
      },
      "execution_count": 23,
      "outputs": [
        {
          "output_type": "stream",
          "name": "stdout",
          "text": [
            "Optimized Portfolio Weights: TSLA: 1.00, BND: 0.00, SPY: 0.00\n",
            "Expected Annual Return: -0.74\n",
            "Portfolio Volatility: 0.60\n",
            "Sharpe Ratio: -1.24\n",
            "TSLA Value at Risk (95% confidence): -0.0549\n"
          ]
        }
      ]
    },
    {
      "cell_type": "code",
      "source": [
        "# Combine Forecasts\n",
        "forecast_dates = pd.date_range(start=pd.to_datetime('today'), periods=30, freq='D')  # Adjust according to your needs\n",
        "forecast_df = pd.DataFrame({\n",
        "    'Date': forecast_dates,\n",
        "    'BND': bnd_forecast.values,\n",
        "    'SPY': spy_forecast\n",
        "}).set_index('Date')\n",
        "\n",
        "# Save to CSV\n",
        "forecast_df.to_csv('/content/combined_forecast_results.csv')\n",
        "\n",
        "print('Saved combined forecast results to /content/combined_forecast_results.csv')"
      ],
      "metadata": {
        "colab": {
          "base_uri": "https://localhost:8080/"
        },
        "id": "rDw8E970cnOm",
        "outputId": "f22d8970-9adc-48e5-ebe2-cc98aef9ad55"
      },
      "execution_count": 25,
      "outputs": [
        {
          "output_type": "stream",
          "name": "stdout",
          "text": [
            "Saved combined forecast results to /content/combined_forecast_results.csv\n"
          ]
        }
      ]
    }
  ]
}