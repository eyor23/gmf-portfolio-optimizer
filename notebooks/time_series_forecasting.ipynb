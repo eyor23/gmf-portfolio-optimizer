{
  "cells": [
    {
      "cell_type": "code",
      "execution_count": null,
      "metadata": {
        "id": "omlZKnIpFeYd"
      },
      "outputs": [],
      "source": [
        "!pip install yfinance statsmodels tensorflow pmdarima"
      ]
    },
    {
      "cell_type": "code",
      "execution_count": 12,
      "metadata": {
        "id": "EIN6n7fHGSOp"
      },
      "outputs": [],
      "source": [
        "import pandas as pd\n",
        "import numpy as np\n",
        "import matplotlib.pyplot as plt\n",
        "import yfinance as yf\n",
        "from statsmodels.tsa.arima.model import ARIMA\n",
        "from statsmodels.tsa.statespace.sarimax import SARIMAX\n",
        "from sklearn.preprocessing import MinMaxScaler\n",
        "from pmdarima.arima import auto_arima\n",
        "from itertools import product\n",
        "from sklearn.metrics import mean_absolute_error, mean_squared_error\n",
        "from tensorflow.keras.models import Sequential\n",
        "from tensorflow.keras.callbacks import EarlyStopping\n",
        "from tensorflow.keras.layers import LSTM, Dense\n",
        "from tensorflow.keras.optimizers import Adam\n",
        "from math import sqrt\n",
        "import time_seri_forecast as tsf\n",
        "import warnings\n",
        "warnings.simplefilter(action='ignore', category=FutureWarning)"
      ]
    },
    {
      "cell_type": "markdown",
      "metadata": {
        "id": "C87zB1qEGVA-"
      },
      "source": [
        "# **Time Series Forecasting**"
      ]
    },
    {
      "cell_type": "markdown",
      "metadata": {
        "id": "SS_UCEa0IeXV"
      },
      "source": [
        "***Load dataset from CSV***"
      ]
    },
    {
      "cell_type": "code",
      "execution_count": 2,
      "metadata": {
        "colab": {
          "base_uri": "https://localhost:8080/",
          "height": 238
        },
        "id": "OXc9pPdZIaWp",
        "outputId": "db54d2c2-47f0-46dc-8887-11b6a43cc1f1"
      },
      "outputs": [
        {
          "data": {
            "application/vnd.google.colaboratory.intrinsic+json": {
              "summary": "{\n  \"name\": \"df\",\n  \"rows\": 2535,\n  \"fields\": [\n    {\n      \"column\": \"Date\",\n      \"properties\": {\n        \"dtype\": \"date\",\n        \"min\": \"2015-01-02 00:00:00\",\n        \"max\": \"2025-01-30 00:00:00\",\n        \"num_unique_values\": 2535,\n        \"samples\": [\n          \"2020-08-14 00:00:00\",\n          \"2022-01-21 00:00:00\",\n          \"2024-03-27 00:00:00\"\n        ],\n        \"semantic_type\": \"\",\n        \"description\": \"\"\n      }\n    },\n    {\n      \"column\": \"TSLA\",\n      \"properties\": {\n        \"dtype\": \"number\",\n        \"std\": 116.50828780920439,\n        \"min\": 9.57800006866455,\n        \"max\": 479.8599853515625,\n        \"num_unique_values\": 2481,\n        \"samples\": [\n          13.666000366210938,\n          21.851999282836918,\n          368.739990234375\n        ],\n        \"semantic_type\": \"\",\n        \"description\": \"\"\n      }\n    }\n  ]\n}",
              "type": "dataframe",
              "variable_name": "df"
            },
            "text/html": [
              "\n",
              "  <div id=\"df-586d1f54-e676-4e24-a7f4-7cbead369811\" class=\"colab-df-container\">\n",
              "    <div>\n",
              "<style scoped>\n",
              "    .dataframe tbody tr th:only-of-type {\n",
              "        vertical-align: middle;\n",
              "    }\n",
              "\n",
              "    .dataframe tbody tr th {\n",
              "        vertical-align: top;\n",
              "    }\n",
              "\n",
              "    .dataframe thead th {\n",
              "        text-align: right;\n",
              "    }\n",
              "</style>\n",
              "<table border=\"1\" class=\"dataframe\">\n",
              "  <thead>\n",
              "    <tr style=\"text-align: right;\">\n",
              "      <th></th>\n",
              "      <th>TSLA</th>\n",
              "    </tr>\n",
              "    <tr>\n",
              "      <th>Date</th>\n",
              "      <th></th>\n",
              "    </tr>\n",
              "  </thead>\n",
              "  <tbody>\n",
              "    <tr>\n",
              "      <th>2015-01-02</th>\n",
              "      <td>14.620667</td>\n",
              "    </tr>\n",
              "    <tr>\n",
              "      <th>2015-01-05</th>\n",
              "      <td>14.006000</td>\n",
              "    </tr>\n",
              "    <tr>\n",
              "      <th>2015-01-06</th>\n",
              "      <td>14.085333</td>\n",
              "    </tr>\n",
              "    <tr>\n",
              "      <th>2015-01-07</th>\n",
              "      <td>14.063333</td>\n",
              "    </tr>\n",
              "    <tr>\n",
              "      <th>2015-01-08</th>\n",
              "      <td>14.041333</td>\n",
              "    </tr>\n",
              "  </tbody>\n",
              "</table>\n",
              "</div>\n",
              "    <div class=\"colab-df-buttons\">\n",
              "\n",
              "  <div class=\"colab-df-container\">\n",
              "    <button class=\"colab-df-convert\" onclick=\"convertToInteractive('df-586d1f54-e676-4e24-a7f4-7cbead369811')\"\n",
              "            title=\"Convert this dataframe to an interactive table.\"\n",
              "            style=\"display:none;\">\n",
              "\n",
              "  <svg xmlns=\"http://www.w3.org/2000/svg\" height=\"24px\" viewBox=\"0 -960 960 960\">\n",
              "    <path d=\"M120-120v-720h720v720H120Zm60-500h600v-160H180v160Zm220 220h160v-160H400v160Zm0 220h160v-160H400v160ZM180-400h160v-160H180v160Zm440 0h160v-160H620v160ZM180-180h160v-160H180v160Zm440 0h160v-160H620v160Z\"/>\n",
              "  </svg>\n",
              "    </button>\n",
              "\n",
              "  <style>\n",
              "    .colab-df-container {\n",
              "      display:flex;\n",
              "      gap: 12px;\n",
              "    }\n",
              "\n",
              "    .colab-df-convert {\n",
              "      background-color: #E8F0FE;\n",
              "      border: none;\n",
              "      border-radius: 50%;\n",
              "      cursor: pointer;\n",
              "      display: none;\n",
              "      fill: #1967D2;\n",
              "      height: 32px;\n",
              "      padding: 0 0 0 0;\n",
              "      width: 32px;\n",
              "    }\n",
              "\n",
              "    .colab-df-convert:hover {\n",
              "      background-color: #E2EBFA;\n",
              "      box-shadow: 0px 1px 2px rgba(60, 64, 67, 0.3), 0px 1px 3px 1px rgba(60, 64, 67, 0.15);\n",
              "      fill: #174EA6;\n",
              "    }\n",
              "\n",
              "    .colab-df-buttons div {\n",
              "      margin-bottom: 4px;\n",
              "    }\n",
              "\n",
              "    [theme=dark] .colab-df-convert {\n",
              "      background-color: #3B4455;\n",
              "      fill: #D2E3FC;\n",
              "    }\n",
              "\n",
              "    [theme=dark] .colab-df-convert:hover {\n",
              "      background-color: #434B5C;\n",
              "      box-shadow: 0px 1px 3px 1px rgba(0, 0, 0, 0.15);\n",
              "      filter: drop-shadow(0px 1px 2px rgba(0, 0, 0, 0.3));\n",
              "      fill: #FFFFFF;\n",
              "    }\n",
              "  </style>\n",
              "\n",
              "    <script>\n",
              "      const buttonEl =\n",
              "        document.querySelector('#df-586d1f54-e676-4e24-a7f4-7cbead369811 button.colab-df-convert');\n",
              "      buttonEl.style.display =\n",
              "        google.colab.kernel.accessAllowed ? 'block' : 'none';\n",
              "\n",
              "      async function convertToInteractive(key) {\n",
              "        const element = document.querySelector('#df-586d1f54-e676-4e24-a7f4-7cbead369811');\n",
              "        const dataTable =\n",
              "          await google.colab.kernel.invokeFunction('convertToInteractive',\n",
              "                                                    [key], {});\n",
              "        if (!dataTable) return;\n",
              "\n",
              "        const docLinkHtml = 'Like what you see? Visit the ' +\n",
              "          '<a target=\"_blank\" href=https://colab.research.google.com/notebooks/data_table.ipynb>data table notebook</a>'\n",
              "          + ' to learn more about interactive tables.';\n",
              "        element.innerHTML = '';\n",
              "        dataTable['output_type'] = 'display_data';\n",
              "        await google.colab.output.renderOutput(dataTable, element);\n",
              "        const docLink = document.createElement('div');\n",
              "        docLink.innerHTML = docLinkHtml;\n",
              "        element.appendChild(docLink);\n",
              "      }\n",
              "    </script>\n",
              "  </div>\n",
              "\n",
              "\n",
              "<div id=\"df-6e00b519-373f-4051-8e58-7f2e926e5ee3\">\n",
              "  <button class=\"colab-df-quickchart\" onclick=\"quickchart('df-6e00b519-373f-4051-8e58-7f2e926e5ee3')\"\n",
              "            title=\"Suggest charts\"\n",
              "            style=\"display:none;\">\n",
              "\n",
              "<svg xmlns=\"http://www.w3.org/2000/svg\" height=\"24px\"viewBox=\"0 0 24 24\"\n",
              "     width=\"24px\">\n",
              "    <g>\n",
              "        <path d=\"M19 3H5c-1.1 0-2 .9-2 2v14c0 1.1.9 2 2 2h14c1.1 0 2-.9 2-2V5c0-1.1-.9-2-2-2zM9 17H7v-7h2v7zm4 0h-2V7h2v10zm4 0h-2v-4h2v4z\"/>\n",
              "    </g>\n",
              "</svg>\n",
              "  </button>\n",
              "\n",
              "<style>\n",
              "  .colab-df-quickchart {\n",
              "      --bg-color: #E8F0FE;\n",
              "      --fill-color: #1967D2;\n",
              "      --hover-bg-color: #E2EBFA;\n",
              "      --hover-fill-color: #174EA6;\n",
              "      --disabled-fill-color: #AAA;\n",
              "      --disabled-bg-color: #DDD;\n",
              "  }\n",
              "\n",
              "  [theme=dark] .colab-df-quickchart {\n",
              "      --bg-color: #3B4455;\n",
              "      --fill-color: #D2E3FC;\n",
              "      --hover-bg-color: #434B5C;\n",
              "      --hover-fill-color: #FFFFFF;\n",
              "      --disabled-bg-color: #3B4455;\n",
              "      --disabled-fill-color: #666;\n",
              "  }\n",
              "\n",
              "  .colab-df-quickchart {\n",
              "    background-color: var(--bg-color);\n",
              "    border: none;\n",
              "    border-radius: 50%;\n",
              "    cursor: pointer;\n",
              "    display: none;\n",
              "    fill: var(--fill-color);\n",
              "    height: 32px;\n",
              "    padding: 0;\n",
              "    width: 32px;\n",
              "  }\n",
              "\n",
              "  .colab-df-quickchart:hover {\n",
              "    background-color: var(--hover-bg-color);\n",
              "    box-shadow: 0 1px 2px rgba(60, 64, 67, 0.3), 0 1px 3px 1px rgba(60, 64, 67, 0.15);\n",
              "    fill: var(--button-hover-fill-color);\n",
              "  }\n",
              "\n",
              "  .colab-df-quickchart-complete:disabled,\n",
              "  .colab-df-quickchart-complete:disabled:hover {\n",
              "    background-color: var(--disabled-bg-color);\n",
              "    fill: var(--disabled-fill-color);\n",
              "    box-shadow: none;\n",
              "  }\n",
              "\n",
              "  .colab-df-spinner {\n",
              "    border: 2px solid var(--fill-color);\n",
              "    border-color: transparent;\n",
              "    border-bottom-color: var(--fill-color);\n",
              "    animation:\n",
              "      spin 1s steps(1) infinite;\n",
              "  }\n",
              "\n",
              "  @keyframes spin {\n",
              "    0% {\n",
              "      border-color: transparent;\n",
              "      border-bottom-color: var(--fill-color);\n",
              "      border-left-color: var(--fill-color);\n",
              "    }\n",
              "    20% {\n",
              "      border-color: transparent;\n",
              "      border-left-color: var(--fill-color);\n",
              "      border-top-color: var(--fill-color);\n",
              "    }\n",
              "    30% {\n",
              "      border-color: transparent;\n",
              "      border-left-color: var(--fill-color);\n",
              "      border-top-color: var(--fill-color);\n",
              "      border-right-color: var(--fill-color);\n",
              "    }\n",
              "    40% {\n",
              "      border-color: transparent;\n",
              "      border-right-color: var(--fill-color);\n",
              "      border-top-color: var(--fill-color);\n",
              "    }\n",
              "    60% {\n",
              "      border-color: transparent;\n",
              "      border-right-color: var(--fill-color);\n",
              "    }\n",
              "    80% {\n",
              "      border-color: transparent;\n",
              "      border-right-color: var(--fill-color);\n",
              "      border-bottom-color: var(--fill-color);\n",
              "    }\n",
              "    90% {\n",
              "      border-color: transparent;\n",
              "      border-bottom-color: var(--fill-color);\n",
              "    }\n",
              "  }\n",
              "</style>\n",
              "\n",
              "  <script>\n",
              "    async function quickchart(key) {\n",
              "      const quickchartButtonEl =\n",
              "        document.querySelector('#' + key + ' button');\n",
              "      quickchartButtonEl.disabled = true;  // To prevent multiple clicks.\n",
              "      quickchartButtonEl.classList.add('colab-df-spinner');\n",
              "      try {\n",
              "        const charts = await google.colab.kernel.invokeFunction(\n",
              "            'suggestCharts', [key], {});\n",
              "      } catch (error) {\n",
              "        console.error('Error during call to suggestCharts:', error);\n",
              "      }\n",
              "      quickchartButtonEl.classList.remove('colab-df-spinner');\n",
              "      quickchartButtonEl.classList.add('colab-df-quickchart-complete');\n",
              "    }\n",
              "    (() => {\n",
              "      let quickchartButtonEl =\n",
              "        document.querySelector('#df-6e00b519-373f-4051-8e58-7f2e926e5ee3 button');\n",
              "      quickchartButtonEl.style.display =\n",
              "        google.colab.kernel.accessAllowed ? 'block' : 'none';\n",
              "    })();\n",
              "  </script>\n",
              "</div>\n",
              "\n",
              "    </div>\n",
              "  </div>\n"
            ],
            "text/plain": [
              "                 TSLA\n",
              "Date                 \n",
              "2015-01-02  14.620667\n",
              "2015-01-05  14.006000\n",
              "2015-01-06  14.085333\n",
              "2015-01-07  14.063333\n",
              "2015-01-08  14.041333"
            ]
          },
          "execution_count": 2,
          "metadata": {},
          "output_type": "execute_result"
        }
      ],
      "source": [
        "data = pd.read_csv('/content/financial_data.csv', index_col=0, parse_dates=True)\n",
        "ticker = 'TSLA'\n",
        "df = data[[ticker]].dropna()\n",
        "df.head()"
      ]
    },
    {
      "cell_type": "markdown",
      "metadata": {
        "id": "PdKTWcWBI_HV"
      },
      "source": [
        "***Train_test Split***"
      ]
    },
    {
      "cell_type": "code",
      "execution_count": 3,
      "metadata": {
        "id": "zNZRnVCpJDCn"
      },
      "outputs": [],
      "source": [
        "train_size = int(len(df) * 0.8)\n",
        "train, test = df.iloc[:train_size], df.iloc[train_size:]"
      ]
    },
    {
      "cell_type": "markdown",
      "metadata": {
        "id": "59IuK1FtJHrm"
      },
      "source": [
        "***ARIMA Model***"
      ]
    },
    {
      "cell_type": "code",
      "execution_count": 4,
      "metadata": {
        "colab": {
          "base_uri": "https://localhost:8080/"
        },
        "id": "yKACPBRLR3ek",
        "outputId": "4e2c0880-bffc-4f9e-bfb0-dfb3e53a542f"
      },
      "outputs": [
        {
          "name": "stdout",
          "output_type": "stream",
          "text": [
            "Performing stepwise search to minimize aic\n",
            " ARIMA(2,1,2)(0,0,0)[0] intercept   : AIC=12684.802, Time=1.92 sec\n",
            " ARIMA(0,1,0)(0,0,0)[0] intercept   : AIC=12680.726, Time=0.16 sec\n",
            " ARIMA(1,1,0)(0,0,0)[0] intercept   : AIC=12679.653, Time=0.28 sec\n",
            " ARIMA(0,1,1)(0,0,0)[0] intercept   : AIC=12679.753, Time=1.05 sec\n",
            " ARIMA(0,1,0)(0,0,0)[0]             : AIC=12678.997, Time=0.13 sec\n",
            " ARIMA(1,1,1)(0,0,0)[0] intercept   : AIC=12680.805, Time=3.52 sec\n",
            "\n",
            "Best model:  ARIMA(0,1,0)(0,0,0)[0]          \n",
            "Total fit time: 7.070 seconds\n"
          ]
        },
        {
          "name": "stderr",
          "output_type": "stream",
          "text": [
            "/usr/local/lib/python3.11/dist-packages/statsmodels/tsa/base/tsa_model.py:837: ValueWarning: No supported index is available. Prediction results will be given with an integer index beginning at `start`.\n",
            "  return get_prediction_index(\n"
          ]
        }
      ],
      "source": [
        "try:\n",
        "    # AutoARIMA automatically selects best p, d, q\n",
        "    auto_arima_model = auto_arima(train, seasonal=False, stepwise=True, trace=True)\n",
        "    arima_forecast = auto_arima_model.predict(n_periods=len(test))\n",
        "except Exception as e:\n",
        "    print(f\"Error fitting AutoARIMA: {e}\")\n",
        "    arima_forecast = np.full(len(test), np.nan)"
      ]
    },
    {
      "cell_type": "markdown",
      "metadata": {
        "id": "hZsvrg-cSkEX"
      },
      "source": [
        "***SARIMA Model***"
      ]
    },
    {
      "cell_type": "code",
      "execution_count": 5,
      "metadata": {
        "colab": {
          "base_uri": "https://localhost:8080/"
        },
        "id": "xPsqXkoQSom8",
        "outputId": "ab71c9e5-e983-4478-b0a7-42d7dba59ee6"
      },
      "outputs": [
        {
          "name": "stderr",
          "output_type": "stream",
          "text": [
            "/usr/local/lib/python3.11/dist-packages/statsmodels/tsa/base/tsa_model.py:473: ValueWarning: A date index has been provided, but it has no associated frequency information and so will be ignored when e.g. forecasting.\n",
            "  self._init_dates(dates, freq)\n",
            "/usr/local/lib/python3.11/dist-packages/statsmodels/tsa/base/tsa_model.py:473: ValueWarning: A date index has been provided, but it has no associated frequency information and so will be ignored when e.g. forecasting.\n",
            "  self._init_dates(dates, freq)\n",
            "/usr/local/lib/python3.11/dist-packages/statsmodels/tsa/base/tsa_model.py:837: ValueWarning: No supported index is available. Prediction results will be given with an integer index beginning at `start`.\n",
            "  return get_prediction_index(\n"
          ]
        }
      ],
      "source": [
        "try:\n",
        "    sarima_model = SARIMAX(\n",
        "        train, order=(1, 1, 0), seasonal_order=(1, 0, 0, 52)\n",
        "    )  # Adjusted seasonal order\n",
        "    sarima_fit = sarima_model.fit()\n",
        "    sarima_forecast = sarima_fit.forecast(steps=len(test))\n",
        "except Exception as e:\n",
        "    print(f\"Error fitting SARIMA: {e}\")\n",
        "    sarima_forecast = np.full(len(test), np.nan)"
      ]
    },
    {
      "cell_type": "markdown",
      "metadata": {
        "id": "QbzbQUviTp7u"
      },
      "source": [
        "***LSTM Model***"
      ]
    },
    {
      "cell_type": "code",
      "execution_count": 13,
      "metadata": {
        "colab": {
          "base_uri": "https://localhost:8080/"
        },
        "id": "WSdGPgceTv3s",
        "outputId": "619434ef-8e42-42d0-99f4-83192a0e5015"
      },
      "outputs": [
        {
          "name": "stderr",
          "output_type": "stream",
          "text": [
            "/usr/local/lib/python3.11/dist-packages/keras/src/layers/rnn/rnn.py:200: UserWarning: Do not pass an `input_shape`/`input_dim` argument to a layer. When using Sequential models, prefer using an `Input(shape)` object as the first layer in the model instead.\n",
            "  super().__init__(**kwargs)\n"
          ]
        },
        {
          "name": "stdout",
          "output_type": "stream",
          "text": [
            "\u001b[1m14/14\u001b[0m \u001b[32m━━━━━━━━━━━━━━━━━━━━\u001b[0m\u001b[37m\u001b[0m \u001b[1m1s\u001b[0m 41ms/step\n"
          ]
        }
      ],
      "source": [
        "# seq_length=60 LSTM - MAE: 52.0999, RMSE: 71.8282, MAPE: 25.1661\n",
        "scaler = MinMaxScaler(feature_range=(0, 1))\n",
        "train_scaled = scaler.fit_transform(train)\n",
        "test_scaled = scaler.transform(test)\n",
        "\n",
        "seq_length = 60\n",
        "X_train, y_train = tsf.create_sequences(train_scaled, seq_length)\n",
        "X_test, y_test = tsf.create_sequences(test_scaled, seq_length)\n",
        "\n",
        "model = Sequential([\n",
        "    LSTM(50, return_sequences=True, input_shape=(seq_length, 1)),\n",
        "    LSTM(50, return_sequences=False),\n",
        "    Dense(25),\n",
        "    Dense(1)\n",
        "])\n",
        "\n",
        "model.compile(optimizer=Adam(learning_rate=0.001), loss='mean_squared_error')\n",
        "\n",
        "try:\n",
        "  model.fit(X_train, y_train, epochs=20, batch_size=16, verbose=0)\n",
        "  lstm_forecast = model.predict(X_test)\n",
        "  lstm_forecast = scaler.inverse_transform(lstm_forecast)\n",
        "except Exception as e:\n",
        "  print(f\"Error fitting LSTM: {e}\")\n",
        "  lstm_forecast = np.full(len(test), np.nan)"
      ]
    },
    {
      "cell_type": "code",
      "execution_count": 15,
      "metadata": {
        "colab": {
          "base_uri": "https://localhost:8080/"
        },
        "id": "aE1vkhG4CN7A",
        "outputId": "3d39dea7-1c7d-4207-f992-5330e03f7235"
      },
      "outputs": [
        {
          "name": "stderr",
          "output_type": "stream",
          "text": [
            "/usr/local/lib/python3.11/dist-packages/keras/src/layers/rnn/rnn.py:200: UserWarning: Do not pass an `input_shape`/`input_dim` argument to a layer. When using Sequential models, prefer using an `Input(shape)` object as the first layer in the model instead.\n",
            "  super().__init__(**kwargs)\n"
          ]
        },
        {
          "name": "stdout",
          "output_type": "stream",
          "text": [
            "\u001b[1m15/15\u001b[0m \u001b[32m━━━━━━━━━━━━━━━━━━━━\u001b[0m\u001b[37m\u001b[0m \u001b[1m1s\u001b[0m 32ms/step\n",
            "LSTM - MAE: 36.4107, RMSE: 50.0971, MAPE: 16.6302\n"
          ]
        }
      ],
      "source": [
        "# seq_length=30 LSTM - MAE: 36.4107, RMSE: 50.0971, MAPE: 16.6302\n",
        "scaler = MinMaxScaler(feature_range=(0, 1))\n",
        "train_scaled = scaler.fit_transform(train)\n",
        "test_scaled = scaler.transform(test)\n",
        "\n",
        "seq_length = 30\n",
        "X_train, y_train = tsf.create_sequences(train_scaled, seq_length)\n",
        "X_test, y_test = tsf.create_sequences(test_scaled, seq_length)\n",
        "\n",
        "model = Sequential([\n",
        "    LSTM(50, return_sequences=True, input_shape=(seq_length, 1)),\n",
        "    LSTM(50, return_sequences=False),\n",
        "    Dense(25),\n",
        "    Dense(1)\n",
        "])\n",
        "\n",
        "model.compile(optimizer=Adam(learning_rate=0.001), loss='mean_squared_error')\n",
        "\n",
        "try:\n",
        "  model.fit(X_train, y_train, epochs=20, batch_size=16, verbose=0)\n",
        "  lstm_forecast2 = model.predict(X_test)\n",
        "  lstm_forecast2 = scaler.inverse_transform(lstm_forecast2)\n",
        "except Exception as e:\n",
        "  print(f\"Error fitting LSTM: {e}\")\n",
        "  lstm_forecast2 = np.full(len(test), np.nan)\n",
        "\n",
        "tsf.calculate_metrics(test, lstm_forecast2, 'LSTM')"
      ]
    },
    {
      "cell_type": "markdown",
      "metadata": {
        "id": "WRJPc7uZVUs9"
      },
      "source": [
        "***Evaluation***"
      ]
    },
    {
      "cell_type": "code",
      "execution_count": 16,
      "metadata": {
        "colab": {
          "base_uri": "https://localhost:8080/"
        },
        "id": "0krCIEYfVYV0",
        "outputId": "ad1038c8-3aef-479b-c376-fb2a14fc25cf"
      },
      "outputs": [
        {
          "name": "stdout",
          "output_type": "stream",
          "text": [
            "ARIMA - MAE: 89.9096, RMSE: 111.0784, MAPE: nan\n",
            "SARIMA - MAE: 87.6695, RMSE: 109.2481, MAPE: nan\n",
            "LSTM - MAE: 52.0999, RMSE: 71.8282, MAPE: 25.1661\n"
          ]
        }
      ],
      "source": [
        "tsf.calculate_metrics(test, arima_forecast, 'ARIMA')\n",
        "tsf.calculate_metrics(test, sarima_forecast, 'SARIMA')\n",
        "tsf.calculate_metrics(test, lstm_forecast, 'LSTM')\n"
      ]
    },
    {
      "cell_type": "markdown",
      "metadata": {
        "id": "TX4fDQMobc9y"
      },
      "source": [
        "***Visualization***"
      ]
    },
    {
      "cell_type": "code",
      "execution_count": 19,
      "metadata": {
        "colab": {
          "base_uri": "https://localhost:8080/",
          "height": 584
        },
        "id": "Wq0HJBknbgnb",
        "outputId": "90dfb585-e0eb-499c-f51d-324c28d50f3b"
      },
      "outputs": [
        {
          "data": {
            "image/png": "[encoded data removed]",
            "text/plain": [
              "<Figure size 1200x600 with 1 Axes>"
            ]
          },
          "metadata": {},
          "output_type": "display_data"
        }
      ],
      "source": [
        "plt.figure(figsize=(12, 6))\n",
        "plt.plot(test.index, test, label=\"Actual TSLA Price\")\n",
        "plt.plot(test.index, arima_forecast, label=\"ARIMA Predictions\", color=\"red\")\n",
        "plt.plot(test.index, sarima_forecast, label=\"SARIMA Predictions\", color=\"green\")\n",
        "plt.plot(\n",
        "    test.index[seq_length:],\n",
        "    lstm_forecast2,\n",
        "    label=\"LSTM Predictions with 30 seq_length\",\n",
        "    color=\"purple\",\n",
        ")\n",
        "plt.xlabel(\"Date\")\n",
        "plt.ylabel(\"TSLA Close Price\")\n",
        "plt.title(\"TSLA Price Forecasting with ARIMA, SARIMA, and LSTM\")\n",
        "plt.legend()\n",
        "plt.show()"
      ]
    },
    {
      "cell_type": "code",
      "execution_count": 26,
      "metadata": {
        "colab": {
          "base_uri": "https://localhost:8080/"
        },
        "id": "xwscHtaapYxw",
        "outputId": "266a4df8-3464-4b59-ff9b-c7b921e48108"
      },
      "outputs": [
        {
          "name": "stdout",
          "output_type": "stream",
          "text": [
            "Forecasts saved to /content/forecasts.csv\n",
            "LSTM model saved successfully in Keras format!\n"
          ]
        }
      ],
      "source": [
        "# Ensure the lengths of the forecast arrays match the test index length\n",
        "len_test = len(test)\n",
        "\n",
        "# Resize forecasts to match the test set length if necessary\n",
        "if len(arima_forecast) != len_test:\n",
        "    arima_forecast = np.resize(arima_forecast, len_test)\n",
        "if len(sarima_forecast) != len_test:\n",
        "    sarima_forecast = np.resize(sarima_forecast, len_test)\n",
        "\n",
        "# Flatten the LSTM forecast if it's a 2D array (lstm_forecast2)\n",
        "if lstm_forecast2.ndim > 1:\n",
        "    lstm_forecast2 = lstm_forecast2.flatten()\n",
        "\n",
        "# Ensure LSTM forecast matches the length of the test set\n",
        "if len(lstm_forecast2) != len_test:\n",
        "    lstm_forecast2 = np.resize(lstm_forecast2, len_test)\n",
        "\n",
        "# Create DataFrame and save to CSV\n",
        "try:\n",
        "    forecasts_df = pd.DataFrame({\n",
        "        'ARIMA': arima_forecast,\n",
        "        'SARIMA': sarima_forecast,\n",
        "        'LSTM': lstm_forecast2  # Using lstm_forecast2 here\n",
        "    })\n",
        "    forecasts_df.to_csv('/content/forecasts.csv', index=False)\n",
        "    print(\"Forecasts saved to /content/forecasts.csv\")\n",
        "except ValueError as e:\n",
        "    print(f\"Error creating DataFrame: {e}\")\n",
        "\n",
        "# Save the trained LSTM model\n",
        "try:\n",
        "    model.save('/content/lstm_model.keras')  # Save the trained LSTM model in .keras format\n",
        "    print(\"LSTM model saved successfully in Keras format!\")\n",
        "except Exception as e:\n",
        "    print(f\"Error saving LSTM model: {e}\")\n"
      ]
    },
    {
      "cell_type": "code",
      "execution_count": null,
      "metadata": {
        "colab": {
          "base_uri": "https://localhost:8080/"
        },
        "id": "MCPevrNMpn9g",
        "outputId": "461de356-ac27-404d-ba5f-f32f2aa628cb"
      },
      "outputs": [
        {
          "name": "stdout",
          "output_type": "stream",
          "text": [
            "Model saved as lstm_model.pkl\n"
          ]
        }
      ],
      "source": [
        "# Save the trained LSTM model as a .pkl file\n",
        "with open('/content/lstm_model.pkl', 'wb') as file:\n",
        "    pickle.dump(model, file)\n",
        "print(\"Model saved as lstm_model.pkl\")"
      ]
    }
  ],
  "metadata": {
    "colab": {
      "provenance": []
    },
    "kernelspec": {
      "display_name": "Python 3",
      "name": "python3"
    },
    "language_info": {
      "name": "python"
    }
  },
  "nbformat": 4,
  "nbformat_minor": 0
}
